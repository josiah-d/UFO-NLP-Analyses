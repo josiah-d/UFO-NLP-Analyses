{
 "cells": [
  {
   "cell_type": "code",
   "execution_count": 1,
   "metadata": {},
   "outputs": [],
   "source": [
    "# imports\n",
    "from bs4 import BeautifulSoup as BS\n",
    "import json\n",
    "import matplotlib.pyplot as plt\n",
    "import numpy as np\n",
    "import pandas as pd\n"
   ]
  },
  {
   "cell_type": "code",
   "execution_count": 2,
   "metadata": {},
   "outputs": [],
   "source": [
    "# set plotting params\n",
    "plt.rcParams['font.serif'] = 'Ubuntu'\n",
    "plt.rcParams['font.monospace'] = 'Ubuntu Mono'\n",
    "plt.rcParams['font.size'] = 18\n",
    "plt.rcParams['axes.labelsize'] = 18\n",
    "plt.rcParams['axes.titlesize'] = 18\n",
    "plt.rcParams['xtick.labelsize'] = 12\n",
    "plt.rcParams['ytick.labelsize'] = 12\n",
    "plt.rcParams['legend.fontsize'] = 18\n",
    "plt.rcParams['figure.titlesize'] = 24"
   ]
  },
  {
   "cell_type": "code",
   "execution_count": 3,
   "metadata": {},
   "outputs": [],
   "source": [
    "file_path = '../data/ufodata.json'"
   ]
  },
  {
   "cell_type": "code",
   "execution_count": 10,
   "metadata": {},
   "outputs": [],
   "source": [
    "class CleanUFOs:\n",
    "    def __init__(self, file_path):\n",
    "        self.file_path = file_path\n",
    "        self.rows = []\n",
    "        \n",
    "    def load_data(self):\n",
    "        self.reports = []\n",
    "        with open(self.file_path) as f:\n",
    "            for i in f:\n",
    "                self.reports.append(json.loads(i))\n",
    "                \n",
    "    def parse_html(self, report):\n",
    "        bs = BS(report['html'], 'html.parser')\n",
    "\n",
    "        text = str(bs.find('tbody'))\n",
    "        text_lst = text.split(' : ')\n",
    "        occured = text_lst[1]\n",
    "        occured = date_time.split('  ')[0].strip()\n",
    "\n",
    "        body = text_lst[2]\n",
    "        body_lst = body.split(': ')\n",
    "\n",
    "        reported = body_lst[1]\n",
    "        reported = reported.split('<')[0].strip()\n",
    "\n",
    "        location = body_lst[3]\n",
    "        location = location.split('<')[0]\n",
    "\n",
    "        city, state = location.split(', ')\n",
    "\n",
    "        shape = body_lst[4].split('<')[0].strip()\n",
    "\n",
    "        body = body_lst[4].split(':')\n",
    "\n",
    "        duration = body[1]\n",
    "        duration = duration.split('<')[0]\n",
    "\n",
    "        description = text_lst[-1].split('\">')[3].split('</font>')[0].replace('<br/>', '').strip()\n",
    "\n",
    "        data_dct = {'occured': occured, 'reported': reported, 'city': city, 'state': state,\n",
    "                    'shape': shape, 'duration': duration, 'description': description}\n",
    "\n",
    "        self.rows.append(data_dct)\n",
    "    \n",
    "    def clean_reports(self):\n",
    "        for report in self.reports:\n",
    "            self.parse_html(report)\n",
    "    \n",
    "    def to_pandas(self):\n",
    "        return pd.Dataframe(self.rows)"
   ]
  },
  {
   "cell_type": "code",
   "execution_count": 11,
   "metadata": {},
   "outputs": [],
   "source": [
    "clean_ufos = CleanUFOs(file_path)"
   ]
  },
  {
   "cell_type": "code",
   "execution_count": null,
   "metadata": {},
   "outputs": [],
   "source": [
    "clean_ufos.load_data()\n",
    "clean_ufos.clean_reports()\n",
    "df = clean_ufos.to_pandas()"
   ]
  },
  {
   "cell_type": "code",
   "execution_count": null,
   "metadata": {},
   "outputs": [],
   "source": [
    "df"
   ]
  },
  {
   "cell_type": "code",
   "execution_count": null,
   "metadata": {},
   "outputs": [],
   "source": [
    "df.shape"
   ]
  },
  {
   "cell_type": "code",
   "execution_count": null,
   "metadata": {},
   "outputs": [],
   "source": []
  },
  {
   "cell_type": "code",
   "execution_count": 10,
   "metadata": {},
   "outputs": [],
   "source": []
  },
  {
   "cell_type": "code",
   "execution_count": 100,
   "metadata": {},
   "outputs": [],
   "source": [
    "rows = []"
   ]
  },
  {
   "cell_type": "code",
   "execution_count": 101,
   "metadata": {},
   "outputs": [],
   "source": [
    "def parse_html(reports, idx):\n",
    "    bs = BS(reports[idx]['html'], 'html.parser')\n",
    "    \n",
    "    text = str(bs.find('tbody'))\n",
    "    text_lst = text.split(' : ')\n",
    "    occured = text_lst[1]\n",
    "    occured = date_time.split('  ')[0].strip()\n",
    "\n",
    "    body = text_lst[2]\n",
    "    body_lst = body.split(': ')\n",
    "\n",
    "    reported = body_lst[1]\n",
    "    reported = reported.split('<')[0].strip()\n",
    "\n",
    "    location = body_lst[3]\n",
    "    location = location.split('<')[0]\n",
    "\n",
    "    city, state = location.split(', ')\n",
    "\n",
    "    shape = body_lst[4].split('<')[0].strip()\n",
    "\n",
    "    body = body_lst[4].split(':')\n",
    "\n",
    "    duration = body[1]\n",
    "    duration = duration.split('<')[0]\n",
    "\n",
    "    description = text_lst[-1].split('\">')[3].split('</font>')[0].replace('<br/>', '').strip()\n",
    "\n",
    "    data_dct = {'occured': occured, 'reported': reported, 'city': city, 'state': state,\n",
    "                'shape': shape, 'duration': duration, 'description': description}\n",
    "    \n",
    "    rows.append(data_dct)"
   ]
  },
  {
   "cell_type": "code",
   "execution_count": 106,
   "metadata": {},
   "outputs": [],
   "source": [
    "parse_html(reports, 1)"
   ]
  },
  {
   "cell_type": "code",
   "execution_count": 107,
   "metadata": {},
   "outputs": [
    {
     "data": {
      "text/plain": [
       "[{'occured': '5/6/2017 05:00',\n",
       "  'reported': '5/6/2017 4:10:01 AM 04:10',\n",
       "  'city': 'Camp McGregor',\n",
       "  'state': 'NM',\n",
       "  'shape': 'Light',\n",
       "  'duration': '10 minutes',\n",
       "  'description': \"Light seen over mountain's east of Camp McGregor.  It hovered in one spot.  It looked like a helicopter light at first.  But it was way to bright.  Then it went to a higher height.  Stayed there for a while.  Then disappeared.((NUFORC Note:  Report appears to us to be consistent with the sighting of Venus.  PD))\"},\n",
       " {'occured': '5/6/2017 05:00',\n",
       "  'reported': '5/6/2017 5:00:54 AM 05:00',\n",
       "  'city': 'Mojave (Canada)',\n",
       "  'state': 'BC',\n",
       "  'shape': 'Light',\n",
       "  'duration': '1',\n",
       "  'description': 'Light in sky stationary.  Not a airplane or any known star.  Flickering in brightness.((NUFORC Note:  Possibly Venus.  Source of the report elects to remain anonymous; provides no contact information.  We could not find a city named \"Mojave\" in BC, Canada.  PD))'}]"
      ]
     },
     "execution_count": 107,
     "metadata": {},
     "output_type": "execute_result"
    }
   ],
   "source": [
    "rows"
   ]
  },
  {
   "cell_type": "code",
   "execution_count": 108,
   "metadata": {},
   "outputs": [],
   "source": [
    "df = pd.DataFrame(rows)"
   ]
  },
  {
   "cell_type": "code",
   "execution_count": 109,
   "metadata": {},
   "outputs": [
    {
     "data": {
      "text/html": [
       "<div>\n",
       "<style scoped>\n",
       "    .dataframe tbody tr th:only-of-type {\n",
       "        vertical-align: middle;\n",
       "    }\n",
       "\n",
       "    .dataframe tbody tr th {\n",
       "        vertical-align: top;\n",
       "    }\n",
       "\n",
       "    .dataframe thead th {\n",
       "        text-align: right;\n",
       "    }\n",
       "</style>\n",
       "<table border=\"1\" class=\"dataframe\">\n",
       "  <thead>\n",
       "    <tr style=\"text-align: right;\">\n",
       "      <th></th>\n",
       "      <th>occured</th>\n",
       "      <th>reported</th>\n",
       "      <th>city</th>\n",
       "      <th>state</th>\n",
       "      <th>shape</th>\n",
       "      <th>duration</th>\n",
       "      <th>description</th>\n",
       "    </tr>\n",
       "  </thead>\n",
       "  <tbody>\n",
       "    <tr>\n",
       "      <th>0</th>\n",
       "      <td>5/6/2017 05:00</td>\n",
       "      <td>5/6/2017 4:10:01 AM 04:10</td>\n",
       "      <td>Camp McGregor</td>\n",
       "      <td>NM</td>\n",
       "      <td>Light</td>\n",
       "      <td>10 minutes</td>\n",
       "      <td>Light seen over mountain's east of Camp McGreg...</td>\n",
       "    </tr>\n",
       "    <tr>\n",
       "      <th>1</th>\n",
       "      <td>5/6/2017 05:00</td>\n",
       "      <td>5/6/2017 5:00:54 AM 05:00</td>\n",
       "      <td>Mojave (Canada)</td>\n",
       "      <td>BC</td>\n",
       "      <td>Light</td>\n",
       "      <td>1</td>\n",
       "      <td>Light in sky stationary.  Not a airplane or an...</td>\n",
       "    </tr>\n",
       "  </tbody>\n",
       "</table>\n",
       "</div>"
      ],
      "text/plain": [
       "          occured                   reported             city state  shape  \\\n",
       "0  5/6/2017 05:00  5/6/2017 4:10:01 AM 04:10    Camp McGregor    NM  Light   \n",
       "1  5/6/2017 05:00  5/6/2017 5:00:54 AM 05:00  Mojave (Canada)    BC  Light   \n",
       "\n",
       "     duration                                        description  \n",
       "0  10 minutes  Light seen over mountain's east of Camp McGreg...  \n",
       "1           1  Light in sky stationary.  Not a airplane or an...  "
      ]
     },
     "execution_count": 109,
     "metadata": {},
     "output_type": "execute_result"
    }
   ],
   "source": [
    "df"
   ]
  },
  {
   "cell_type": "code",
   "execution_count": 95,
   "metadata": {},
   "outputs": [],
   "source": []
  },
  {
   "cell_type": "code",
   "execution_count": null,
   "metadata": {},
   "outputs": [],
   "source": []
  },
  {
   "cell_type": "code",
   "execution_count": null,
   "metadata": {},
   "outputs": [],
   "source": []
  },
  {
   "cell_type": "code",
   "execution_count": null,
   "metadata": {},
   "outputs": [],
   "source": []
  },
  {
   "cell_type": "code",
   "execution_count": null,
   "metadata": {},
   "outputs": [],
   "source": []
  },
  {
   "cell_type": "code",
   "execution_count": null,
   "metadata": {},
   "outputs": [],
   "source": []
  },
  {
   "cell_type": "code",
   "execution_count": null,
   "metadata": {},
   "outputs": [],
   "source": []
  },
  {
   "cell_type": "code",
   "execution_count": null,
   "metadata": {},
   "outputs": [],
   "source": []
  }
 ],
 "metadata": {
  "kernelspec": {
   "display_name": "Python 3",
   "language": "python",
   "name": "python3"
  },
  "language_info": {
   "codemirror_mode": {
    "name": "ipython",
    "version": 3
   },
   "file_extension": ".py",
   "mimetype": "text/x-python",
   "name": "python",
   "nbconvert_exporter": "python",
   "pygments_lexer": "ipython3",
   "version": "3.8.5"
  }
 },
 "nbformat": 4,
 "nbformat_minor": 4
}
