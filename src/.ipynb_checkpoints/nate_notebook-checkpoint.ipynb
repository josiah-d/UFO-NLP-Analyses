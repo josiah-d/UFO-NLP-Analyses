{
 "cells": [
  {
   "cell_type": "code",
   "execution_count": 23,
   "id": "c58c59fb",
   "metadata": {},
   "outputs": [],
   "source": [
    "import pandas as pd\n",
    "import numpy as np\n",
    "import matplotlib.pyplot as plt\n",
    "import json\n",
    "from bs4 import BeautifulSoup\n",
    "from sklearn.feature_extraction.text import TfidfVectorizer\n",
    "plt.rcParams['font.serif'] = 'Ubuntu'\n",
    "plt.rcParams['font.monospace'] = 'Ubuntu Mono'\n",
    "plt.rcParams['font.size'] = 18\n",
    "plt.rcParams['axes.labelsize'] = 18\n",
    "plt.rcParams['axes.titlesize'] = 18\n",
    "plt.rcParams['xtick.labelsize'] = 12\n",
    "plt.rcParams['ytick.labelsize'] = 12\n",
    "plt.rcParams['legend.fontsize'] = 18\n",
    "plt.rcParams['figure.titlesize'] = 24 "
   ]
  },
  {
   "cell_type": "code",
   "execution_count": 6,
   "id": "27c4472e",
   "metadata": {},
   "outputs": [
    {
     "data": {
      "text/plain": [
       "{'_id': {'$oid': '591382287c40e83fd74240bd'},\n",
       " 'url': 'http://www.nuforc.org/webreports/133/S133978.html',\n",
       " 'html': '<html xmlns:v=\"urn:schemas-microsoft-com:vml\"\\r\\nxmlns:o=\"urn:schemas-microsoft-com:office:office\"\\r\\nxmlns:w=\"urn:schemas-microsoft-com:office:word\"\\r\\nxmlns:m=\"http://schemas.microsoft.com/office/2004/12/omml\"\\r\\nxmlns=\"http://www.w3.org/TR/REC-html40\">\\r\\n\\r\\n<head>\\r\\n<meta http-equiv=Content-Type content=\"text/html; charset=windows-1252\">\\r\\n<meta name=ProgId content=Word.Document>\\r\\n<meta name=Generator content=\"Microsoft Word 15\">\\r\\n<meta name=Originator content=\"Microsoft Word 15\">\\r\\n<link rel=File-List href=\"STemplate_files/filelist.xml\">\\r\\n<!--[if gte mso 9]><xml>\\r\\n <o:DocumentProperties>\\r\\n  <o:Author>Christian Stepien</o:Author>\\r\\n  <o:LastAuthor>Christian Stepien</o:LastAuthor>\\r\\n  <o:Revision>3</o:Revision>\\r\\n  <o:TotalTime>1</o:TotalTime>\\r\\n  <o:Created>2014-02-14T21:30:00Z</o:Created>\\r\\n  <o:LastSaved>2014-02-14T21:35:00Z</o:LastSaved>\\r\\n  <o:Pages>1</o:Pages>\\r\\n  <o:Words>58</o:Words>\\r\\n  <o:Characters>331</o:Characters>\\r\\n  <o:Lines>2</o:Lines>\\r\\n  <o:Paragraphs>1</o:Paragraphs>\\r\\n  <o:CharactersWithSpaces>388</o:CharactersWithSpaces>\\r\\n  <o:Version>15.00</o:Version>\\r\\n </o:DocumentProperties>\\r\\n <o:OfficeDocumentSettings>\\r\\n  <o:AllowPNG/>\\r\\n </o:OfficeDocumentSettings>\\r\\n</xml><![endif]-->\\r\\n<link rel=themeData href=\"STemplate_files/themedata.thmx\">\\r\\n<link rel=colorSchemeMapping href=\"STemplate_files/colorschememapping.xml\">\\r\\n<!--[if gte mso 9]><xml>\\r\\n <w:WordDocument>\\r\\n  <w:View>Print</w:View>\\r\\n  <w:SpellingState>Clean</w:SpellingState>\\r\\n  <w:GrammarState>Clean</w:GrammarState>\\r\\n  <w:TrackMoves>false</w:TrackMoves>\\r\\n  <w:TrackFormatting/>\\r\\n  <w:ValidateAgainstSchemas/>\\r\\n  <w:SaveIfXMLInvalid>false</w:SaveIfXMLInvalid>\\r\\n  <w:IgnoreMixedContent>false</w:IgnoreMixedContent>\\r\\n  <w:AlwaysShowPlaceholderText>false</w:AlwaysShowPlaceholderText>\\r\\n  <w:DoNotPromoteQF/>\\r\\n  <w:LidThemeOther>EN-US</w:LidThemeOther>\\r\\n  <w:LidThemeAsian>X-NONE</w:LidThemeAsian>\\r\\n  <w:LidThemeComplexScript>X-NONE</w:LidThemeComplexScript>\\r\\n  <w:Compatibility>\\r\\n   <w:BreakWrappedTables/>\\r\\n   <w:SplitPgBreakAndParaMark/>\\r\\n  </w:Compatibility>\\r\\n  <w:BrowserLevel>MicrosoftInternetExplorer4</w:BrowserLevel>\\r\\n  <m:mathPr>\\r\\n   <m:mathFont m:val=\"Cambria Math\"/>\\r\\n   <m:brkBin m:val=\"before\"/>\\r\\n   <m:brkBinSub m:val=\"&#45;-\"/>\\r\\n   <m:smallFrac m:val=\"off\"/>\\r\\n   <m:dispDef/>\\r\\n   <m:lMargin m:val=\"0\"/>\\r\\n   <m:rMargin m:val=\"0\"/>\\r\\n   <m:defJc m:val=\"centerGroup\"/>\\r\\n   <m:wrapIndent m:val=\"1440\"/>\\r\\n   <m:intLim m:val=\"subSup\"/>\\r\\n   <m:naryLim m:val=\"undOvr\"/>\\r\\n  </m:mathPr></w:WordDocument>\\r\\n</xml><![endif]--><!--[if gte mso 9]><xml>\\r\\n <w:LatentStyles DefLockedState=\"false\" DefUnhideWhenUsed=\"false\"\\r\\n  DefSemiHidden=\"false\" DefQFormat=\"false\" DefPriority=\"99\"\\r\\n  LatentStyleCount=\"371\">\\r\\n  <w:LsdException Locked=\"false\" Priority=\"0\" QFormat=\"true\" Name=\"Normal\"/>\\r\\n  <w:LsdException Locked=\"false\" Priority=\"9\" QFormat=\"true\" Name=\"heading 1\"/>\\r\\n  <w:LsdException Locked=\"false\" Priority=\"9\" SemiHidden=\"true\"\\r\\n   UnhideWhenUsed=\"true\" QFormat=\"true\" Name=\"heading 2\"/>\\r\\n  <w:LsdException Locked=\"false\" Priority=\"9\" SemiHidden=\"true\"\\r\\n   UnhideWhenUsed=\"true\" QFormat=\"true\" Name=\"heading 3\"/>\\r\\n  <w:LsdException Locked=\"false\" Priority=\"9\" SemiHidden=\"true\"\\r\\n   UnhideWhenUsed=\"true\" QFormat=\"true\" Name=\"heading 4\"/>\\r\\n  <w:LsdException Locked=\"false\" Priority=\"9\" SemiHidden=\"true\"\\r\\n   UnhideWhenUsed=\"true\" QFormat=\"true\" Name=\"heading 5\"/>\\r\\n  <w:LsdException Locked=\"false\" Priority=\"9\" SemiHidden=\"true\"\\r\\n   UnhideWhenUsed=\"true\" QFormat=\"true\" Name=\"heading 6\"/>\\r\\n  <w:LsdException Locked=\"false\" Priority=\"9\" SemiHidden=\"true\"\\r\\n   UnhideWhenUsed=\"true\" QFormat=\"true\" Name=\"heading 7\"/>\\r\\n  <w:LsdException Locked=\"false\" Priority=\"9\" SemiHidden=\"true\"\\r\\n   UnhideWhenUsed=\"true\" QFormat=\"true\" Name=\"heading 8\"/>\\r\\n  <w:LsdException Locked=\"false\" Priority=\"9\" SemiHidden=\"true\"\\r\\n   UnhideWhenUsed=\"true\" QFormat=\"true\" Name=\"heading 9\"/>\\r\\n  <w:LsdException Locked=\"false\" SemiHidden=\"true\" UnhideWhenUsed=\"true\"\\r\\n   Name=\"index 1\"/>\\r\\n  <w:LsdException Locked=\"false\" SemiHidden=\"true\" UnhideWhenUsed=\"true\"\\r\\n   Name=\"index 2\"/>\\r\\n  <w:LsdException Locked=\"false\" SemiHidden=\"true\" UnhideWhenUsed=\"true\"\\r\\n   Name=\"index 3\"/>\\r\\n  <w:LsdException Locked=\"false\" SemiHidden=\"true\" UnhideWhenUsed=\"true\"\\r\\n   Name=\"index 4\"/>\\r\\n  <w:LsdException Locked=\"false\" SemiHidden=\"true\" UnhideWhenUsed=\"true\"\\r\\n   Name=\"index 5\"/>\\r\\n  <w:LsdException Locked=\"false\" SemiHidden=\"true\" UnhideWhenUsed=\"true\"\\r\\n   Name=\"index 6\"/>\\r\\n  <w:LsdException Locked=\"false\" SemiHidden=\"true\" UnhideWhenUsed=\"true\"\\r\\n   Name=\"index 7\"/>\\r\\n  <w:LsdException Locked=\"false\" SemiHidden=\"true\" UnhideWhenUsed=\"true\"\\r\\n   Name=\"index 8\"/>\\r\\n  <w:LsdException Locked=\"false\" SemiHidden=\"true\" UnhideWhenUsed=\"true\"\\r\\n   Name=\"index 9\"/>\\r\\n  <w:LsdException Locked=\"false\" Priority=\"39\" SemiHidden=\"true\"\\r\\n   UnhideWhenUsed=\"true\" Name=\"toc 1\"/>\\r\\n  <w:LsdException Locked=\"false\" Priority=\"39\" SemiHidden=\"true\"\\r\\n   UnhideWhenUsed=\"true\" Name=\"toc 2\"/>\\r\\n  <w:LsdException Locked=\"false\" Priority=\"39\" SemiHidden=\"true\"\\r\\n   UnhideWhenUsed=\"true\" Name=\"toc 3\"/>\\r\\n  <w:LsdException Locked=\"false\" Priority=\"39\" SemiHidden=\"true\"\\r\\n   UnhideWhenUsed=\"true\" Name=\"toc 4\"/>\\r\\n  <w:LsdException Locked=\"false\" Priority=\"39\" SemiHidden=\"true\"\\r\\n   UnhideWhenUsed=\"true\" Name=\"toc 5\"/>\\r\\n  <w:LsdException Locked=\"false\" Priority=\"39\" SemiHidden=\"true\"\\r\\n   UnhideWhenUsed=\"true\" Name=\"toc 6\"/>\\r\\n  <w:LsdException Locked=\"false\" Priority=\"39\" SemiHidden=\"true\"\\r\\n   UnhideWhenUsed=\"true\" Name=\"toc 7\"/>\\r\\n  <w:LsdException Locked=\"false\" Priority=\"39\" SemiHidden=\"true\"\\r\\n   UnhideWhenUsed=\"true\" Name=\"toc 8\"/>\\r\\n  <w:LsdException Locked=\"false\" Priority=\"39\" SemiHidden=\"true\"\\r\\n   UnhideWhenUsed=\"true\" Name=\"toc 9\"/>\\r\\n  <w:LsdException Locked=\"false\" SemiHidden=\"true\" UnhideWhenUsed=\"true\"\\r\\n   Name=\"Normal Indent\"/>\\r\\n  <w:LsdException Locked=\"false\" SemiHidden=\"true\" UnhideWhenUsed=\"true\"\\r\\n   Name=\"footnote text\"/>\\r\\n  <w:LsdException Locked=\"false\" SemiHidden=\"true\" UnhideWhenUsed=\"true\"\\r\\n   Name=\"annotation text\"/>\\r\\n  <w:LsdException Locked=\"false\" SemiHidden=\"true\" UnhideWhenUsed=\"true\"\\r\\n   Name=\"header\"/>\\r\\n  <w:LsdException Locked=\"false\" SemiHidden=\"true\" UnhideWhenUsed=\"true\"\\r\\n   Name=\"footer\"/>\\r\\n  <w:LsdException Locked=\"false\" SemiHidden=\"true\" UnhideWhenUsed=\"true\"\\r\\n   Name=\"index heading\"/>\\r\\n  <w:LsdException Locked=\"false\" Priority=\"35\" SemiHidden=\"true\"\\r\\n   UnhideWhenUsed=\"true\" QFormat=\"true\" Name=\"caption\"/>\\r\\n  <w:LsdException Locked=\"false\" SemiHidden=\"true\" UnhideWhenUsed=\"true\"\\r\\n   Name=\"table of figures\"/>\\r\\n  <w:LsdException Locked=\"false\" SemiHidden=\"true\" UnhideWhenUsed=\"true\"\\r\\n   Name=\"envelope address\"/>\\r\\n  <w:LsdException Locked=\"false\" SemiHidden=\"true\" UnhideWhenUsed=\"true\"\\r\\n   Name=\"envelope return\"/>\\r\\n  <w:LsdException Locked=\"false\" SemiHidden=\"true\" UnhideWhenUsed=\"true\"\\r\\n   Name=\"footnote reference\"/>\\r\\n  <w:LsdException Locked=\"false\" SemiHidden=\"true\" UnhideWhenUsed=\"true\"\\r\\n   Name=\"annotation reference\"/>\\r\\n  <w:LsdException Locked=\"false\" SemiHidden=\"true\" UnhideWhenUsed=\"true\"\\r\\n   Name=\"line number\"/>\\r\\n  <w:LsdException Locked=\"false\" SemiHidden=\"true\" UnhideWhenUsed=\"true\"\\r\\n   Name=\"page number\"/>\\r\\n  <w:LsdException Locked=\"false\" SemiHidden=\"true\" UnhideWhenUsed=\"true\"\\r\\n   Name=\"endnote reference\"/>\\r\\n  <w:LsdException Locked=\"false\" SemiHidden=\"true\" UnhideWhenUsed=\"true\"\\r\\n   Name=\"endnote text\"/>\\r\\n  <w:LsdException Locked=\"false\" SemiHidden=\"true\" UnhideWhenUsed=\"true\"\\r\\n   Name=\"table of authorities\"/>\\r\\n  <w:LsdException Locked=\"false\" SemiHidden=\"true\" UnhideWhenUsed=\"true\"\\r\\n   Name=\"macro\"/>\\r\\n  <w:LsdException Locked=\"false\" SemiHidden=\"true\" UnhideWhenUsed=\"true\"\\r\\n   Name=\"toa heading\"/>\\r\\n  <w:LsdException Locked=\"false\" SemiHidden=\"true\" UnhideWhenUsed=\"true\"\\r\\n   Name=\"List\"/>\\r\\n  <w:LsdException Locked=\"false\" SemiHidden=\"true\" UnhideWhenUsed=\"true\"\\r\\n   Name=\"List Bullet\"/>\\r\\n  <w:LsdException Locked=\"false\" SemiHidden=\"true\" UnhideWhenUsed=\"true\"\\r\\n   Name=\"List Number\"/>\\r\\n  <w:LsdException Locked=\"false\" SemiHidden=\"true\" UnhideWhenUsed=\"true\"\\r\\n   Name=\"List 2\"/>\\r\\n  <w:LsdException Locked=\"false\" SemiHidden=\"true\" UnhideWhenUsed=\"true\"\\r\\n   Name=\"List 3\"/>\\r\\n  <w:LsdException Locked=\"false\" SemiHidden=\"true\" UnhideWhenUsed=\"true\"\\r\\n   Name=\"List 4\"/>\\r\\n  <w:LsdException Locked=\"false\" SemiHidden=\"true\" UnhideWhenUsed=\"true\"\\r\\n   Name=\"List 5\"/>\\r\\n  <w:LsdException Locked=\"false\" SemiHidden=\"true\" UnhideWhenUsed=\"true\"\\r\\n   Name=\"List Bullet 2\"/>\\r\\n  <w:LsdException Locked=\"false\" SemiHidden=\"true\" UnhideWhenUsed=\"true\"\\r\\n   Name=\"List Bullet 3\"/>\\r\\n  <w:LsdException Locked=\"false\" SemiHidden=\"true\" UnhideWhenUsed=\"true\"\\r\\n   Name=\"List Bullet 4\"/>\\r\\n  <w:LsdException Locked=\"false\" SemiHidden=\"true\" UnhideWhenUsed=\"true\"\\r\\n   Name=\"List Bullet 5\"/>\\r\\n  <w:LsdException Locked=\"false\" SemiHidden=\"true\" UnhideWhenUsed=\"true\"\\r\\n   Name=\"List Number 2\"/>\\r\\n  <w:LsdException Locked=\"false\" SemiHidden=\"true\" UnhideWhenUsed=\"true\"\\r\\n   Name=\"List Number 3\"/>\\r\\n  <w:LsdException Locked=\"false\" SemiHidden=\"true\" UnhideWhenUsed=\"true\"\\r\\n   Name=\"List Number 4\"/>\\r\\n  <w:LsdException Locked=\"false\" SemiHidden=\"true\" UnhideWhenUsed=\"true\"\\r\\n   Name=\"List Number 5\"/>\\r\\n  <w:LsdException Locked=\"false\" Priority=\"10\" QFormat=\"true\" Name=\"Title\"/>\\r\\n  <w:LsdException Locked=\"false\" SemiHidden=\"true\" UnhideWhenUsed=\"true\"\\r\\n   Name=\"Closing\"/>\\r\\n  <w:LsdException Locked=\"false\" SemiHidden=\"true\" UnhideWhenUsed=\"true\"\\r\\n   Name=\"Signature\"/>\\r\\n  <w:LsdException Locked=\"false\" Priority=\"1\" SemiHidden=\"true\"\\r\\n   UnhideWhenUsed=\"true\" Name=\"Default Paragraph Font\"/>\\r\\n  <w:LsdException Locked=\"false\" SemiHidden=\"true\" UnhideWhenUsed=\"true\"\\r\\n   Name=\"Body Text\"/>\\r\\n  <w:LsdException Locked=\"false\" SemiHidden=\"true\" UnhideWhenUsed=\"true\"\\r\\n   Name=\"Body Text Indent\"/>\\r\\n  <w:LsdException Locked=\"false\" SemiHidden=\"true\" UnhideWhenUsed=\"true\"\\r\\n   Name=\"List Continue\"/>\\r\\n  <w:LsdException Locked=\"false\" SemiHidden=\"true\" UnhideWhenUsed=\"true\"\\r\\n   Name=\"List Continue 2\"/>\\r\\n  <w:LsdException Locked=\"false\" SemiHidden=\"true\" UnhideWhenUsed=\"true\"\\r\\n   Name=\"List Continue 3\"/>\\r\\n  <w:LsdException Locked=\"false\" SemiHidden=\"true\" UnhideWhenUsed=\"true\"\\r\\n   Name=\"List Continue 4\"/>\\r\\n  <w:LsdException Locked=\"false\" SemiHidden=\"true\" UnhideWhenUsed=\"true\"\\r\\n   Name=\"List Continue 5\"/>\\r\\n  <w:LsdException Locked=\"false\" SemiHidden=\"true\" UnhideWhenUsed=\"true\"\\r\\n   Name=\"Message Header\"/>\\r\\n  <w:LsdException Locked=\"false\" Priority=\"11\" QFormat=\"true\" Name=\"Subtitle\"/>\\r\\n  <w:LsdException Locked=\"false\" SemiHidden=\"true\" UnhideWhenUsed=\"true\"\\r\\n   Name=\"Salutation\"/>\\r\\n  <w:LsdException Locked=\"false\" SemiHidden=\"true\" UnhideWhenUsed=\"true\"\\r\\n   Name=\"Date\"/>\\r\\n  <w:LsdException Locked=\"false\" SemiHidden=\"true\" UnhideWhenUsed=\"true\"\\r\\n   Name=\"Body Text First Indent\"/>\\r\\n  <w:LsdException Locked=\"false\" SemiHidden=\"true\" UnhideWhenUsed=\"true\"\\r\\n   Name=\"Body Text First Indent 2\"/>\\r\\n  <w:LsdException Locked=\"false\" SemiHidden=\"true\" UnhideWhenUsed=\"true\"\\r\\n   Name=\"Note Heading\"/>\\r\\n  <w:LsdException Locked=\"false\" SemiHidden=\"true\" UnhideWhenUsed=\"true\"\\r\\n   Name=\"Body Text 2\"/>\\r\\n  <w:LsdException Locked=\"false\" SemiHidden=\"true\" UnhideWhenUsed=\"true\"\\r\\n   Name=\"Body Text 3\"/>\\r\\n  <w:LsdException Locked=\"false\" SemiHidden=\"true\" UnhideWhenUsed=\"true\"\\r\\n   Name=\"Body Text Indent 2\"/>\\r\\n  <w:LsdException Locked=\"false\" SemiHidden=\"true\" UnhideWhenUsed=\"true\"\\r\\n   Name=\"Body Text Indent 3\"/>\\r\\n  <w:LsdException Locked=\"false\" SemiHidden=\"true\" UnhideWhenUsed=\"true\"\\r\\n   Name=\"Block Text\"/>\\r\\n  <w:LsdException Locked=\"false\" SemiHidden=\"true\" UnhideWhenUsed=\"true\"\\r\\n   Name=\"Hyperlink\"/>\\r\\n  <w:LsdException Locked=\"false\" SemiHidden=\"true\" UnhideWhenUsed=\"true\"\\r\\n   Name=\"FollowedHyperlink\"/>\\r\\n  <w:LsdException Locked=\"false\" Priority=\"22\" QFormat=\"true\" Name=\"Strong\"/>\\r\\n  <w:LsdException Locked=\"false\" Priority=\"20\" QFormat=\"true\" Name=\"Emphasis\"/>\\r\\n  <w:LsdException Locked=\"false\" SemiHidden=\"true\" UnhideWhenUsed=\"true\"\\r\\n   Name=\"Document Map\"/>\\r\\n  <w:LsdException Locked=\"false\" SemiHidden=\"true\" UnhideWhenUsed=\"true\"\\r\\n   Name=\"Plain Text\"/>\\r\\n  <w:LsdException Locked=\"false\" SemiHidden=\"true\" UnhideWhenUsed=\"true\"\\r\\n   Name=\"E-mail Signature\"/>\\r\\n  <w:LsdException Locked=\"false\" SemiHidden=\"true\" UnhideWhenUsed=\"true\"\\r\\n   Name=\"HTML Top of Form\"/>\\r\\n  <w:LsdException Locked=\"false\" SemiHidden=\"true\" UnhideWhenUsed=\"true\"\\r\\n   Name=\"HTML Bottom of Form\"/>\\r\\n  <w:LsdException Locked=\"false\" SemiHidden=\"true\" UnhideWhenUsed=\"true\"\\r\\n   Name=\"Normal (Web)\"/>\\r\\n  <w:LsdException Locked=\"false\" SemiHidden=\"true\" UnhideWhenUsed=\"true\"\\r\\n   Name=\"HTML Acronym\"/>\\r\\n  <w:LsdException Locked=\"false\" SemiHidden=\"true\" UnhideWhenUsed=\"true\"\\r\\n   Name=\"HTML Address\"/>\\r\\n  <w:LsdException Locked=\"false\" SemiHidden=\"true\" UnhideWhenUsed=\"true\"\\r\\n   Name=\"HTML Cite\"/>\\r\\n  <w:LsdException Locked=\"false\" SemiHidden=\"true\" UnhideWhenUsed=\"true\"\\r\\n   Name=\"HTML Code\"/>\\r\\n  <w:LsdException Locked=\"false\" SemiHidden=\"true\" UnhideWhenUsed=\"true\"\\r\\n   Name=\"HTML Definition\"/>\\r\\n  <w:LsdException Locked=\"false\" SemiHidden=\"true\" UnhideWhenUsed=\"true\"\\r\\n   Name=\"HTML Keyboard\"/>\\r\\n  <w:LsdException Locked=\"false\" SemiHidden=\"true\" UnhideWhenUsed=\"true\"\\r\\n   Name=\"HTML Preformatted\"/>\\r\\n  <w:LsdException Locked=\"false\" SemiHidden=\"true\" UnhideWhenUsed=\"true\"\\r\\n   Name=\"HTML Sample\"/>\\r\\n  <w:LsdException Locked=\"false\" SemiHidden=\"true\" UnhideWhenUsed=\"true\"\\r\\n   Name=\"HTML Typewriter\"/>\\r\\n  <w:LsdException Locked=\"false\" SemiHidden=\"true\" UnhideWhenUsed=\"true\"\\r\\n   Name=\"HTML Variable\"/>\\r\\n  <w:LsdException Locked=\"false\" SemiHidden=\"true\" UnhideWhenUsed=\"true\"\\r\\n   Name=\"Normal Table\"/>\\r\\n  <w:LsdException Locked=\"false\" SemiHidden=\"true\" UnhideWhenUsed=\"true\"\\r\\n   Name=\"annotation subject\"/>\\r\\n  <w:LsdException Locked=\"false\" SemiHidden=\"true\" UnhideWhenUsed=\"true\"\\r\\n   Name=\"No List\"/>\\r\\n  <w:LsdException Locked=\"false\" SemiHidden=\"true\" UnhideWhenUsed=\"true\"\\r\\n   Name=\"Outline List 1\"/>\\r\\n  <w:LsdException Locked=\"false\" SemiHidden=\"true\" UnhideWhenUsed=\"true\"\\r\\n   Name=\"Outline List 2\"/>\\r\\n  <w:LsdException Locked=\"false\" SemiHidden=\"true\" UnhideWhenUsed=\"true\"\\r\\n   Name=\"Outline List 3\"/>\\r\\n  <w:LsdException Locked=\"false\" SemiHidden=\"true\" UnhideWhenUsed=\"true\"\\r\\n   Name=\"Table Simple 1\"/>\\r\\n  <w:LsdException Locked=\"false\" SemiHidden=\"true\" UnhideWhenUsed=\"true\"\\r\\n   Name=\"Table Simple 2\"/>\\r\\n  <w:LsdException Locked=\"false\" SemiHidden=\"true\" UnhideWhenUsed=\"true\"\\r\\n   Name=\"Table Simple 3\"/>\\r\\n  <w:LsdException Locked=\"false\" SemiHidden=\"true\" UnhideWhenUsed=\"true\"\\r\\n   Name=\"Table Classic 1\"/>\\r\\n  <w:LsdException Locked=\"false\" SemiHidden=\"true\" UnhideWhenUsed=\"true\"\\r\\n   Name=\"Table Classic 2\"/>\\r\\n  <w:LsdException Locked=\"false\" SemiHidden=\"true\" UnhideWhenUsed=\"true\"\\r\\n   Name=\"Table Classic 3\"/>\\r\\n  <w:LsdException Locked=\"false\" SemiHidden=\"true\" UnhideWhenUsed=\"true\"\\r\\n   Name=\"Table Classic 4\"/>\\r\\n  <w:LsdException Locked=\"false\" SemiHidden=\"true\" UnhideWhenUsed=\"true\"\\r\\n   Name=\"Table Colorful 1\"/>\\r\\n  <w:LsdException Locked=\"false\" SemiHidden=\"true\" UnhideWhenUsed=\"true\"\\r\\n   Name=\"Table Colorful 2\"/>\\r\\n  <w:LsdException Locked=\"false\" SemiHidden=\"true\" UnhideWhenUsed=\"true\"\\r\\n   Name=\"Table Colorful 3\"/>\\r\\n  <w:LsdException Locked=\"false\" SemiHidden=\"true\" UnhideWhenUsed=\"true\"\\r\\n   Name=\"Table Columns 1\"/>\\r\\n  <w:LsdException Locked=\"false\" SemiHidden=\"true\" UnhideWhenUsed=\"true\"\\r\\n   Name=\"Table Columns 2\"/>\\r\\n  <w:LsdException Locked=\"false\" SemiHidden=\"true\" UnhideWhenUsed=\"true\"\\r\\n   Name=\"Table Columns 3\"/>\\r\\n  <w:LsdException Locked=\"false\" SemiHidden=\"true\" UnhideWhenUsed=\"true\"\\r\\n   Name=\"Table Columns 4\"/>\\r\\n  <w:LsdException Locked=\"false\" SemiHidden=\"true\" UnhideWhenUsed=\"true\"\\r\\n   Name=\"Table Columns 5\"/>\\r\\n  <w:LsdException Locked=\"false\" SemiHidden=\"true\" UnhideWhenUsed=\"true\"\\r\\n   Name=\"Table Grid 1\"/>\\r\\n  <w:LsdException Locked=\"false\" SemiHidden=\"true\" UnhideWhenUsed=\"true\"\\r\\n   Name=\"Table Grid 2\"/>\\r\\n  <w:LsdException Locked=\"false\" SemiHidden=\"true\" UnhideWhenUsed=\"true\"\\r\\n   Name=\"Table Grid 3\"/>\\r\\n  <w:LsdException Locked=\"false\" SemiHidden=\"true\" UnhideWhenUsed=\"true\"\\r\\n   Name=\"Table Grid 4\"/>\\r\\n  <w:LsdException Locked=\"false\" SemiHidden=\"true\" UnhideWhenUsed=\"true\"\\r\\n   Name=\"Table Grid 5\"/>\\r\\n  <w:LsdException Locked=\"false\" SemiHidden=\"true\" UnhideWhenUsed=\"true\"\\r\\n   Name=\"Table Grid 6\"/>\\r\\n  <w:LsdException Locked=\"false\" SemiHidden=\"true\" UnhideWhenUsed=\"true\"\\r\\n   Name=\"Table Grid 7\"/>\\r\\n  <w:LsdException Locked=\"false\" SemiHidden=\"true\" UnhideWhenUsed=\"true\"\\r\\n   Name=\"Table Grid 8\"/>\\r\\n  <w:LsdException Locked=\"false\" SemiHidden=\"true\" UnhideWhenUsed=\"true\"\\r\\n   Name=\"Table List 1\"/>\\r\\n  <w:LsdException Locked=\"false\" SemiHidden=\"true\" UnhideWhenUsed=\"true\"\\r\\n   Name=\"Table List 2\"/>\\r\\n  <w:LsdException Locked=\"false\" SemiHidden=\"true\" UnhideWhenUsed=\"true\"\\r\\n   Name=\"Table List 3\"/>\\r\\n  <w:LsdException Locked=\"false\" SemiHidden=\"true\" UnhideWhenUsed=\"true\"\\r\\n   Name=\"Table List 4\"/>\\r\\n  <w:LsdException Locked=\"false\" SemiHidden=\"true\" UnhideWhenUsed=\"true\"\\r\\n   Name=\"Table List 5\"/>\\r\\n  <w:LsdException Locked=\"false\" SemiHidden=\"true\" UnhideWhenUsed=\"true\"\\r\\n   Name=\"Table List 6\"/>\\r\\n  <w:LsdException Locked=\"false\" SemiHidden=\"true\" UnhideWhenUsed=\"true\"\\r\\n   Name=\"Table List 7\"/>\\r\\n  <w:LsdException Locked=\"false\" SemiHidden=\"true\" UnhideWhenUsed=\"true\"\\r\\n   Name=\"Table List 8\"/>\\r\\n  <w:LsdException Locked=\"false\" SemiHidden=\"true\" UnhideWhenUsed=\"true\"\\r\\n   Name=\"Table 3D effects 1\"/>\\r\\n  <w:LsdException Locked=\"false\" SemiHidden=\"true\" UnhideWhenUsed=\"true\"\\r\\n   Name=\"Table 3D effects 2\"/>\\r\\n  <w:LsdException Locked=\"false\" SemiHidden=\"true\" UnhideWhenUsed=\"true\"\\r\\n   Name=\"Table 3D effects 3\"/>\\r\\n  <w:LsdException Locked=\"false\" SemiHidden=\"true\" UnhideWhenUsed=\"true\"\\r\\n   Name=\"Table Contemporary\"/>\\r\\n  <w:LsdException Locked=\"false\" SemiHidden=\"true\" UnhideWhenUsed=\"true\"\\r\\n   Name=\"Table Elegant\"/>\\r\\n  <w:LsdException Locked=\"false\" SemiHidden=\"true\" UnhideWhenUsed=\"true\"\\r\\n   Name=\"Table Professional\"/>\\r\\n  <w:LsdException Locked=\"false\" SemiHidden=\"true\" UnhideWhenUsed=\"true\"\\r\\n   Name=\"Table Subtle 1\"/>\\r\\n  <w:LsdException Locked=\"false\" SemiHidden=\"true\" UnhideWhenUsed=\"true\"\\r\\n   Name=\"Table Subtle 2\"/>\\r\\n  <w:LsdException Locked=\"false\" SemiHidden=\"true\" UnhideWhenUsed=\"true\"\\r\\n   Name=\"Table Web 1\"/>\\r\\n  <w:LsdException Locked=\"false\" SemiHidden=\"true\" UnhideWhenUsed=\"true\"\\r\\n   Name=\"Table Web 2\"/>\\r\\n  <w:LsdException Locked=\"false\" SemiHidden=\"true\" UnhideWhenUsed=\"true\"\\r\\n   Name=\"Table Web 3\"/>\\r\\n  <w:LsdException Locked=\"false\" SemiHidden=\"true\" UnhideWhenUsed=\"true\"\\r\\n   Name=\"Balloon Text\"/>\\r\\n  <w:LsdException Locked=\"false\" Priority=\"39\" Name=\"Table Grid\"/>\\r\\n  <w:LsdException Locked=\"false\" SemiHidden=\"true\" UnhideWhenUsed=\"true\"\\r\\n   Name=\"Table Theme\"/>\\r\\n  <w:LsdException Locked=\"false\" SemiHidden=\"true\" Name=\"Placeholder Text\"/>\\r\\n  <w:LsdException Locked=\"false\" Priority=\"1\" QFormat=\"true\" Name=\"No Spacing\"/>\\r\\n  <w:LsdException Locked=\"false\" Priority=\"60\" Name=\"Light Shading\"/>\\r\\n  <w:LsdException Locked=\"false\" Priority=\"61\" Name=\"Light List\"/>\\r\\n  <w:LsdException Locked=\"false\" Priority=\"62\" Name=\"Light Grid\"/>\\r\\n  <w:LsdException Locked=\"false\" Priority=\"63\" Name=\"Medium Shading 1\"/>\\r\\n  <w:LsdException Locked=\"false\" Priority=\"64\" Name=\"Medium Shading 2\"/>\\r\\n  <w:LsdException Locked=\"false\" Priority=\"65\" Name=\"Medium List 1\"/>\\r\\n  <w:LsdException Locked=\"false\" Priority=\"66\" Name=\"Medium List 2\"/>\\r\\n  <w:LsdException Locked=\"false\" Priority=\"67\" Name=\"Medium Grid 1\"/>\\r\\n  <w:LsdException Locked=\"false\" Priority=\"68\" Name=\"Medium Grid 2\"/>\\r\\n  <w:LsdException Locked=\"false\" Priority=\"69\" Name=\"Medium Grid 3\"/>\\r\\n  <w:LsdException Locked=\"false\" Priority=\"70\" Name=\"Dark List\"/>\\r\\n  <w:LsdException Locked=\"false\" Priority=\"71\" Name=\"Colorful Shading\"/>\\r\\n  <w:LsdException Locked=\"false\" Priority=\"72\" Name=\"Colorful List\"/>\\r\\n  <w:LsdException Locked=\"false\" Priority=\"73\" Name=\"Colorful Grid\"/>\\r\\n  <w:LsdException Locked=\"false\" Priority=\"60\" Name=\"Light Shading Accent 1\"/>\\r\\n  <w:LsdException Locked=\"false\" Priority=\"61\" Name=\"Light List Accent 1\"/>\\r\\n  <w:LsdException Locked=\"false\" Priority=\"62\" Name=\"Light Grid Accent 1\"/>\\r\\n  <w:LsdException Locked=\"false\" Priority=\"63\" Name=\"Medium Shading 1 Accent 1\"/>\\r\\n  <w:LsdException Locked=\"false\" Priority=\"64\" Name=\"Medium Shading 2 Accent 1\"/>\\r\\n  <w:LsdException Locked=\"false\" Priority=\"65\" Name=\"Medium List 1 Accent 1\"/>\\r\\n  <w:LsdException Locked=\"false\" SemiHidden=\"true\" Name=\"Revision\"/>\\r\\n  <w:LsdException Locked=\"false\" Priority=\"34\" QFormat=\"true\"\\r\\n   Name=\"List Paragraph\"/>\\r\\n  <w:LsdException Locked=\"false\" Priority=\"29\" QFormat=\"true\" Name=\"Quote\"/>\\r\\n  <w:LsdException Locked=\"false\" Priority=\"30\" QFormat=\"true\"\\r\\n   Name=\"Intense Quote\"/>\\r\\n  <w:LsdException Locked=\"false\" Priority=\"66\" Name=\"Medium List 2 Accent 1\"/>\\r\\n  <w:LsdException Locked=\"false\" Priority=\"67\" Name=\"Medium Grid 1 Accent 1\"/>\\r\\n  <w:LsdException Locked=\"false\" Priority=\"68\" Name=\"Medium Grid 2 Accent 1\"/>\\r\\n  <w:LsdException Locked=\"false\" Priority=\"69\" Name=\"Medium Grid 3 Accent 1\"/>\\r\\n  <w:LsdException Locked=\"false\" Priority=\"70\" Name=\"Dark List Accent 1\"/>\\r\\n  <w:LsdException Locked=\"false\" Priority=\"71\" Name=\"Colorful Shading Accent 1\"/>\\r\\n  <w:LsdException Locked=\"false\" Priority=\"72\" Name=\"Colorful List Accent 1\"/>\\r\\n  <w:LsdException Locked=\"false\" Priority=\"73\" Name=\"Colorful Grid Accent 1\"/>\\r\\n  <w:LsdException Locked=\"false\" Priority=\"60\" Name=\"Light Shading Accent 2\"/>\\r\\n  <w:LsdException Locked=\"false\" Priority=\"61\" Name=\"Light List Accent 2\"/>\\r\\n  <w:LsdException Locked=\"false\" Priority=\"62\" Name=\"Light Grid Accent 2\"/>\\r\\n  <w:LsdException Locked=\"false\" Priority=\"63\" Name=\"Medium Shading 1 Accent 2\"/>\\r\\n  <w:LsdException Locked=\"false\" Priority=\"64\" Name=\"Medium Shading 2 Accent 2\"/>\\r\\n  <w:LsdException Locked=\"false\" Priority=\"65\" Name=\"Medium List 1 Accent 2\"/>\\r\\n  <w:LsdException Locked=\"false\" Priority=\"66\" Name=\"Medium List 2 Accent 2\"/>\\r\\n  <w:LsdException Locked=\"false\" Priority=\"67\" Name=\"Medium Grid 1 Accent 2\"/>\\r\\n  <w:LsdException Locked=\"false\" Priority=\"68\" Name=\"Medium Grid 2 Accent 2\"/>\\r\\n  <w:LsdException Locked=\"false\" Priority=\"69\" Name=\"Medium Grid 3 Accent 2\"/>\\r\\n  <w:LsdException Locked=\"false\" Priority=\"70\" Name=\"Dark List Accent 2\"/>\\r\\n  <w:LsdException Locked=\"false\" Priority=\"71\" Name=\"Colorful Shading Accent 2\"/>\\r\\n  <w:LsdException Locked=\"false\" Priority=\"72\" Name=\"Colorful List Accent 2\"/>\\r\\n  <w:LsdException Locked=\"false\" Priority=\"73\" Name=\"Colorful Grid Accent 2\"/>\\r\\n  <w:LsdException Locked=\"false\" Priority=\"60\" Name=\"Light Shading Accent 3\"/>\\r\\n  <w:LsdException Locked=\"false\" Priority=\"61\" Name=\"Light List Accent 3\"/>\\r\\n  <w:LsdException Locked=\"false\" Priority=\"62\" Name=\"Light Grid Accent 3\"/>\\r\\n  <w:LsdException Locked=\"false\" Priority=\"63\" Name=\"Medium Shading 1 Accent 3\"/>\\r\\n  <w:LsdException Locked=\"false\" Priority=\"64\" Name=\"Medium Shading 2 Accent 3\"/>\\r\\n  <w:LsdException Locked=\"false\" Priority=\"65\" Name=\"Medium List 1 Accent 3\"/>\\r\\n  <w:LsdException Locked=\"false\" Priority=\"66\" Name=\"Medium List 2 Accent 3\"/>\\r\\n  <w:LsdException Locked=\"false\" Priority=\"67\" Name=\"Medium Grid 1 Accent 3\"/>\\r\\n  <w:LsdException Locked=\"false\" Priority=\"68\" Name=\"Medium Grid 2 Accent 3\"/>\\r\\n  <w:LsdException Locked=\"false\" Priority=\"69\" Name=\"Medium Grid 3 Accent 3\"/>\\r\\n  <w:LsdException Locked=\"false\" Priority=\"70\" Name=\"Dark List Accent 3\"/>\\r\\n  <w:LsdException Locked=\"false\" Priority=\"71\" Name=\"Colorful Shading Accent 3\"/>\\r\\n  <w:LsdException Locked=\"false\" Priority=\"72\" Name=\"Colorful List Accent 3\"/>\\r\\n  <w:LsdException Locked=\"false\" Priority=\"73\" Name=\"Colorful Grid Accent 3\"/>\\r\\n  <w:LsdException Locked=\"false\" Priority=\"60\" Name=\"Light Shading Accent 4\"/>\\r\\n  <w:LsdException Locked=\"false\" Priority=\"61\" Name=\"Light List Accent 4\"/>\\r\\n  <w:LsdException Locked=\"false\" Priority=\"62\" Name=\"Light Grid Accent 4\"/>\\r\\n  <w:LsdException Locked=\"false\" Priority=\"63\" Name=\"Medium Shading 1 Accent 4\"/>\\r\\n  <w:LsdException Locked=\"false\" Priority=\"64\" Name=\"Medium Shading 2 Accent 4\"/>\\r\\n  <w:LsdException Locked=\"false\" Priority=\"65\" Name=\"Medium List 1 Accent 4\"/>\\r\\n  <w:LsdException Locked=\"false\" Priority=\"66\" Name=\"Medium List 2 Accent 4\"/>\\r\\n  <w:LsdException Locked=\"false\" Priority=\"67\" Name=\"Medium Grid 1 Accent 4\"/>\\r\\n  <w:LsdException Locked=\"false\" Priority=\"68\" Name=\"Medium Grid 2 Accent 4\"/>\\r\\n  <w:LsdException Locked=\"false\" Priority=\"69\" Name=\"Medium Grid 3 Accent 4\"/>\\r\\n  <w:LsdException Locked=\"false\" Priority=\"70\" Name=\"Dark List Accent 4\"/>\\r\\n  <w:LsdException Locked=\"false\" Priority=\"71\" Name=\"Colorful Shading Accent 4\"/>\\r\\n  <w:LsdException Locked=\"false\" Priority=\"72\" Name=\"Colorful List Accent 4\"/>\\r\\n  <w:LsdException Locked=\"false\" Priority=\"73\" Name=\"Colorful Grid Accent 4\"/>\\r\\n  <w:LsdException Locked=\"false\" Priority=\"60\" Name=\"Light Shading Accent 5\"/>\\r\\n  <w:LsdException Locked=\"false\" Priority=\"61\" Name=\"Light List Accent 5\"/>\\r\\n  <w:LsdException Locked=\"false\" Priority=\"62\" Name=\"Light Grid Accent 5\"/>\\r\\n  <w:LsdException Locked=\"false\" Priority=\"63\" Name=\"Medium Shading 1 Accent 5\"/>\\r\\n  <w:LsdException Locked=\"false\" Priority=\"64\" Name=\"Medium Shading 2 Accent 5\"/>\\r\\n  <w:LsdException Locked=\"false\" Priority=\"65\" Name=\"Medium List 1 Accent 5\"/>\\r\\n  <w:LsdException Locked=\"false\" Priority=\"66\" Name=\"Medium List 2 Accent 5\"/>\\r\\n  <w:LsdException Locked=\"false\" Priority=\"67\" Name=\"Medium Grid 1 Accent 5\"/>\\r\\n  <w:LsdException Locked=\"false\" Priority=\"68\" Name=\"Medium Grid 2 Accent 5\"/>\\r\\n  <w:LsdException Locked=\"false\" Priority=\"69\" Name=\"Medium Grid 3 Accent 5\"/>\\r\\n  <w:LsdException Locked=\"false\" Priority=\"70\" Name=\"Dark List Accent 5\"/>\\r\\n  <w:LsdException Locked=\"false\" Priority=\"71\" Name=\"Colorful Shading Accent 5\"/>\\r\\n  <w:LsdException Locked=\"false\" Priority=\"72\" Name=\"Colorful List Accent 5\"/>\\r\\n  <w:LsdException Locked=\"false\" Priority=\"73\" Name=\"Colorful Grid Accent 5\"/>\\r\\n  <w:LsdException Locked=\"false\" Priority=\"60\" Name=\"Light Shading Accent 6\"/>\\r\\n  <w:LsdException Locked=\"false\" Priority=\"61\" Name=\"Light List Accent 6\"/>\\r\\n  <w:LsdException Locked=\"false\" Priority=\"62\" Name=\"Light Grid Accent 6\"/>\\r\\n  <w:LsdException Locked=\"false\" Priority=\"63\" Name=\"Medium Shading 1 Accent 6\"/>\\r\\n  <w:LsdException Locked=\"false\" Priority=\"64\" Name=\"Medium Shading 2 Accent 6\"/>\\r\\n  <w:LsdException Locked=\"false\" Priority=\"65\" Name=\"Medium List 1 Accent 6\"/>\\r\\n  <w:LsdException Locked=\"false\" Priority=\"66\" Name=\"Medium List 2 Accent 6\"/>\\r\\n  <w:LsdException Locked=\"false\" Priority=\"67\" Name=\"Medium Grid 1 Accent 6\"/>\\r\\n  <w:LsdException Locked=\"false\" Priority=\"68\" Name=\"Medium Grid 2 Accent 6\"/>\\r\\n  <w:LsdException Locked=\"false\" Priority=\"69\" Name=\"Medium Grid 3 Accent 6\"/>\\r\\n  <w:LsdException Locked=\"false\" Priority=\"70\" Name=\"Dark List Accent 6\"/>\\r\\n  <w:LsdException Locked=\"false\" Priority=\"71\" Name=\"Colorful Shading Accent 6\"/>\\r\\n  <w:LsdException Locked=\"false\" Priority=\"72\" Name=\"Colorful List Accent 6\"/>\\r\\n  <w:LsdException Locked=\"false\" Priority=\"73\" Name=\"Colorful Grid Accent 6\"/>\\r\\n  <w:LsdException Locked=\"false\" Priority=\"19\" QFormat=\"true\"\\r\\n   Name=\"Subtle Emphasis\"/>\\r\\n  <w:LsdException Locked=\"false\" Priority=\"21\" QFormat=\"true\"\\r\\n   Name=\"Intense Emphasis\"/>\\r\\n  <w:LsdException Locked=\"false\" Priority=\"31\" QFormat=\"true\"\\r\\n   Name=\"Subtle Reference\"/>\\r\\n  <w:LsdException Locked=\"false\" Priority=\"32\" QFormat=\"true\"\\r\\n   Name=\"Intense Reference\"/>\\r\\n  <w:LsdException Locked=\"false\" Priority=\"33\" QFormat=\"true\" Name=\"Book Title\"/>\\r\\n  <w:LsdException Locked=\"false\" Priority=\"37\" SemiHidden=\"true\"\\r\\n   UnhideWhenUsed=\"true\" Name=\"Bibliography\"/>\\r\\n  <w:LsdException Locked=\"false\" Priority=\"39\" SemiHidden=\"true\"\\r\\n   UnhideWhenUsed=\"true\" QFormat=\"true\" Name=\"TOC Heading\"/>\\r\\n  <w:LsdException Locked=\"false\" Priority=\"41\" Name=\"Plain Table 1\"/>\\r\\n  <w:LsdException Locked=\"false\" Priority=\"42\" Name=\"Plain Table 2\"/>\\r\\n  <w:LsdException Locked=\"false\" Priority=\"43\" Name=\"Plain Table 3\"/>\\r\\n  <w:LsdException Locked=\"false\" Priority=\"44\" Name=\"Plain Table 4\"/>\\r\\n  <w:LsdException Locked=\"false\" Priority=\"45\" Name=\"Plain Table 5\"/>\\r\\n  <w:LsdException Locked=\"false\" Priority=\"40\" Name=\"Grid Table Light\"/>\\r\\n  <w:LsdException Locked=\"false\" Priority=\"46\" Name=\"Grid Table 1 Light\"/>\\r\\n  <w:LsdException Locked=\"false\" Priority=\"47\" Name=\"Grid Table 2\"/>\\r\\n  <w:LsdException Locked=\"false\" Priority=\"48\" Name=\"Grid Table 3\"/>\\r\\n  <w:LsdException Locked=\"false\" Priority=\"49\" Name=\"Grid Table 4\"/>\\r\\n  <w:LsdException Locked=\"false\" Priority=\"50\" Name=\"Grid Table 5 Dark\"/>\\r\\n  <w:LsdException Locked=\"false\" Priority=\"51\" Name=\"Grid Table 6 Colorful\"/>\\r\\n  <w:LsdException Locked=\"false\" Priority=\"52\" Name=\"Grid Table 7 Colorful\"/>\\r\\n  <w:LsdException Locked=\"false\" Priority=\"46\"\\r\\n   Name=\"Grid Table 1 Light Accent 1\"/>\\r\\n  <w:LsdException Locked=\"false\" Priority=\"47\" Name=\"Grid Table 2 Accent 1\"/>\\r\\n  <w:LsdException Locked=\"false\" Priority=\"48\" Name=\"Grid Table 3 Accent 1\"/>\\r\\n  <w:LsdException Locked=\"false\" Priority=\"49\" Name=\"Grid Table 4 Accent 1\"/>\\r\\n  <w:LsdException Locked=\"false\" Priority=\"50\" Name=\"Grid Table 5 Dark Accent 1\"/>\\r\\n  <w:LsdException Locked=\"false\" Priority=\"51\"\\r\\n   Name=\"Grid Table 6 Colorful Accent 1\"/>\\r\\n  <w:LsdException Locked=\"false\" Priority=\"52\"\\r\\n   Name=\"Grid Table 7 Colorful Accent 1\"/>\\r\\n  <w:LsdException Locked=\"false\" Priority=\"46\"\\r\\n   Name=\"Grid Table 1 Light Accent 2\"/>\\r\\n  <w:LsdException Locked=\"false\" Priority=\"47\" Name=\"Grid Table 2 Accent 2\"/>\\r\\n  <w:LsdException Locked=\"false\" Priority=\"48\" Name=\"Grid Table 3 Accent 2\"/>\\r\\n  <w:LsdException Locked=\"false\" Priority=\"49\" Name=\"Grid Table 4 Accent 2\"/>\\r\\n  <w:LsdException Locked=\"false\" Priority=\"50\" Name=\"Grid Table 5 Dark Accent 2\"/>\\r\\n  <w:LsdException Locked=\"false\" Priority=\"51\"\\r\\n   Name=\"Grid Table 6 Colorful Accent 2\"/>\\r\\n  <w:LsdException Locked=\"false\" Priority=\"52\"\\r\\n   Name=\"Grid Table 7 Colorful Accent 2\"/>\\r\\n  <w:LsdException Locked=\"false\" Priority=\"46\"\\r\\n   Name=\"Grid Table 1 Light Accent 3\"/>\\r\\n  <w:LsdException Locked=\"false\" Priority=\"47\" Name=\"Grid Table 2 Accent 3\"/>\\r\\n  <w:LsdException Locked=\"false\" Priority=\"48\" Name=\"Grid Table 3 Accent 3\"/>\\r\\n  <w:LsdException Locked=\"false\" Priority=\"49\" Name=\"Grid Table 4 Accent 3\"/>\\r\\n  <w:LsdException Locked=\"false\" Priority=\"50\" Name=\"Grid Table 5 Dark Accent 3\"/>\\r\\n  <w:LsdException Locked=\"false\" Priority=\"51\"\\r\\n   Name=\"Grid Table 6 Colorful Accent 3\"/>\\r\\n  <w:LsdException Locked=\"false\" Priority=\"52\"\\r\\n   Name=\"Grid Table 7 Colorful Accent 3\"/>\\r\\n  <w:LsdException Locked=\"false\" Priority=\"46\"\\r\\n   Name=\"Grid Table 1 Light Accent 4\"/>\\r\\n  <w:LsdException Locked=\"false\" Priority=\"47\" Name=\"Grid Table 2 Accent 4\"/>\\r\\n  <w:LsdException Locked=\"false\" Priority=\"48\" Name=\"Grid Table 3 Accent 4\"/>\\r\\n  <w:LsdException Locked=\"false\" Priority=\"49\" Name=\"Grid Table 4 Accent 4\"/>\\r\\n  <w:LsdException Locked=\"false\" Priority=\"50\" Name=\"Grid Table 5 Dark Accent 4\"/>\\r\\n  <w:LsdException Locked=\"false\" Priority=\"51\"\\r\\n   Name=\"Grid Table 6 Colorful Accent 4\"/>\\r\\n  <w:LsdException Locked=\"false\" Priority=\"52\"\\r\\n   Name=\"Grid Table 7 Colorful Accent 4\"/>\\r\\n  <w:LsdException Locked=\"false\" Priority=\"46\"\\r\\n   Name=\"Grid Table 1 Light Accent 5\"/>\\r\\n  <w:LsdException Locked=\"false\" Priority=\"47\" Name=\"Grid Table 2 Accent 5\"/>\\r\\n  <w:LsdException Locked=\"false\" Priority=\"48\" Name=\"Grid Table 3 Accent 5\"/>\\r\\n  <w:LsdException Locked=\"false\" Priority=\"49\" Name=\"Grid Table 4 Accent 5\"/>\\r\\n  <w:LsdException Locked=\"false\" Priority=\"50\" Name=\"Grid Table 5 Dark Accent 5\"/>\\r\\n  <w:LsdException Locked=\"false\" Priority=\"51\"\\r\\n   Name=\"Grid Table 6 Colorful Accent 5\"/>\\r\\n  <w:LsdException Locked=\"false\" Priority=\"52\"\\r\\n   Name=\"Grid Table 7 Colorful Accent 5\"/>\\r\\n  <w:LsdException Locked=\"false\" Priority=\"46\"\\r\\n   Name=\"Grid Table 1 Light Accent 6\"/>\\r\\n  <w:LsdException Locked=\"false\" Priority=\"47\" Name=\"Grid Table 2 Accent 6\"/>\\r\\n  <w:LsdException Locked=\"false\" Priority=\"48\" Name=\"Grid Table 3 Accent 6\"/>\\r\\n  <w:LsdException Locked=\"false\" Priority=\"49\" Name=\"Grid Table 4 Accent 6\"/>\\r\\n  <w:LsdException Locked=\"false\" Priority=\"50\" Name=\"Grid Table 5 Dark Accent 6\"/>\\r\\n  <w:LsdException Locked=\"false\" Priority=\"51\"\\r\\n   Name=\"Grid Table 6 Colorful Accent 6\"/>\\r\\n  <w:LsdException Locked=\"false\" Priority=\"52\"\\r\\n   Name=\"Grid Table 7 Colorful Accent 6\"/>\\r\\n  <w:LsdException Locked=\"false\" Priority=\"46\" Name=\"List Table 1 Light\"/>\\r\\n  <w:LsdException Locked=\"false\" Priority=\"47\" Name=\"List Table 2\"/>\\r\\n  <w:LsdException Locked=\"false\" Priority=\"48\" Name=\"List Table 3\"/>\\r\\n  <w:LsdException Locked=\"false\" Priority=\"49\" Name=\"List Table 4\"/>\\r\\n  <w:LsdException Locked=\"false\" Priority=\"50\" Name=\"List Table 5 Dark\"/>\\r\\n  <w:LsdException Locked=\"false\" Priority=\"51\" Name=\"List Table 6 Colorful\"/>\\r\\n  <w:LsdException Locked=\"false\" Priority=\"52\" Name=\"List Table 7 Colorful\"/>\\r\\n  <w:LsdException Locked=\"false\" Priority=\"46\"\\r\\n   Name=\"List Table 1 Light Accent 1\"/>\\r\\n  <w:LsdException Locked=\"false\" Priority=\"47\" Name=\"List Table 2 Accent 1\"/>\\r\\n  <w:LsdException Locked=\"false\" Priority=\"48\" Name=\"List Table 3 Accent 1\"/>\\r\\n  <w:LsdException Locked=\"false\" Priority=\"49\" Name=\"List Table 4 Accent 1\"/>\\r\\n  <w:LsdException Locked=\"false\" Priority=\"50\" Name=\"List Table 5 Dark Accent 1\"/>\\r\\n  <w:LsdException Locked=\"false\" Priority=\"51\"\\r\\n   Name=\"List Table 6 Colorful Accent 1\"/>\\r\\n  <w:LsdException Locked=\"false\" Priority=\"52\"\\r\\n   Name=\"List Table 7 Colorful Accent 1\"/>\\r\\n  <w:LsdException Locked=\"false\" Priority=\"46\"\\r\\n   Name=\"List Table 1 Light Accent 2\"/>\\r\\n  <w:LsdException Locked=\"false\" Priority=\"47\" Name=\"List Table 2 Accent 2\"/>\\r\\n  <w:LsdException Locked=\"false\" Priority=\"48\" Name=\"List Table 3 Accent 2\"/>\\r\\n  <w:LsdException Locked=\"false\" Priority=\"49\" Name=\"List Table 4 Accent 2\"/>\\r\\n  <w:LsdException Locked=\"false\" Priority=\"50\" Name=\"List Table 5 Dark Accent 2\"/>\\r\\n  <w:LsdException Locked=\"false\" Priority=\"51\"\\r\\n   Name=\"List Table 6 Colorful Accent 2\"/>\\r\\n  <w:LsdException Locked=\"false\" Priority=\"52\"\\r\\n   Name=\"List Table 7 Colorful Accent 2\"/>\\r\\n  <w:LsdException Locked=\"false\" Priority=\"46\"\\r\\n   Name=\"List Table 1 Light Accent 3\"/>\\r\\n  <w:LsdException Locked=\"false\" Priority=\"47\" Name=\"List Table 2 Accent 3\"/>\\r\\n  <w:LsdException Locked=\"false\" Priority=\"48\" Name=\"List Table 3 Accent 3\"/>\\r\\n  <w:LsdException Locked=\"false\" Priority=\"49\" Name=\"List Table 4 Accent 3\"/>\\r\\n  <w:LsdException Locked=\"false\" Priority=\"50\" Name=\"List Table 5 Dark Accent 3\"/>\\r\\n  <w:LsdException Locked=\"false\" Priority=\"51\"\\r\\n   Name=\"List Table 6 Colorful Accent 3\"/>\\r\\n  <w:LsdException Locked=\"false\" Priority=\"52\"\\r\\n   Name=\"List Table 7 Colorful Accent 3\"/>\\r\\n  <w:LsdException Locked=\"false\" Priority=\"46\"\\r\\n   Name=\"List Table 1 Light Accent 4\"/>\\r\\n  <w:LsdException Locked=\"false\" Priority=\"47\" Name=\"List Table 2 Accent 4\"/>\\r\\n  <w:LsdException Locked=\"false\" Priority=\"48\" Name=\"List Table 3 Accent 4\"/>\\r\\n  <w:LsdException Locked=\"false\" Priority=\"49\" Name=\"List Table 4 Accent 4\"/>\\r\\n  <w:LsdException Locked=\"false\" Priority=\"50\" Name=\"List Table 5 Dark Accent 4\"/>\\r\\n  <w:LsdException Locked=\"false\" Priority=\"51\"\\r\\n   Name=\"List Table 6 Colorful Accent 4\"/>\\r\\n  <w:LsdException Locked=\"false\" Priority=\"52\"\\r\\n   Name=\"List Table 7 Colorful Accent 4\"/>\\r\\n  <w:LsdException Locked=\"false\" Priority=\"46\"\\r\\n   Name=\"List Table 1 Light Accent 5\"/>\\r\\n  <w:LsdException Locked=\"false\" Priority=\"47\" Name=\"List Table 2 Accent 5\"/>\\r\\n  <w:LsdException Locked=\"false\" Priority=\"48\" Name=\"List Table 3 Accent 5\"/>\\r\\n  <w:LsdException Locked=\"false\" Priority=\"49\" Name=\"List Table 4 Accent 5\"/>\\r\\n  <w:LsdException Locked=\"false\" Priority=\"50\" Name=\"List Table 5 Dark Accent 5\"/>\\r\\n  <w:LsdException Locked=\"false\" Priority=\"51\"\\r\\n   Name=\"List Table 6 Colorful Accent 5\"/>\\r\\n  <w:LsdException Locked=\"false\" Priority=\"52\"\\r\\n   Name=\"List Table 7 Colorful Accent 5\"/>\\r\\n  <w:LsdException Locked=\"false\" Priority=\"46\"\\r\\n   Name=\"List Table 1 Light Accent 6\"/>\\r\\n  <w:LsdException Locked=\"false\" Priority=\"47\" Name=\"List Table 2 Accent 6\"/>\\r\\n  <w:LsdException Locked=\"false\" Priority=\"48\" Name=\"List Table 3 Accent 6\"/>\\r\\n  <w:LsdException Locked=\"false\" Priority=\"49\" Name=\"List Table 4 Accent 6\"/>\\r\\n  <w:LsdException Locked=\"false\" Priority=\"50\" Name=\"List Table 5 Dark Accent 6\"/>\\r\\n  <w:LsdException Locked=\"false\" Priority=\"51\"\\r\\n   Name=\"List Table 6 Colorful Accent 6\"/>\\r\\n  <w:LsdException Locked=\"false\" Priority=\"52\"\\r\\n   Name=\"List Table 7 Colorful Accent 6\"/>\\r\\n </w:LatentStyles>\\r\\n</xml><![endif]-->\\r\\n<style>\\r\\n<!--\\r\\n /* Font Definitions */\\r\\n @font-face\\r\\n\\t{font-family:\"Cambria Math\";\\r\\n\\tpanose-1:2 4 5 3 5 4 6 3 2 4;\\r\\n\\tmso-font-charset:1;\\r\\n\\tmso-generic-font-family:roman;\\r\\n\\tmso-font-format:other;\\r\\n\\tmso-font-pitch:variable;\\r\\n\\tmso-font-signature:0 0 0 0 0 0;}\\r\\n /* Style Definitions */\\r\\n p.MsoNormal, li.MsoNormal, div.MsoNormal\\r\\n\\t{mso-style-unhide:no;\\r\\n\\tmso-style-qformat:yes;\\r\\n\\tmso-style-parent:\"\";\\r\\n\\tmargin:0in;\\r\\n\\tmargin-bottom:.0001pt;\\r\\n\\tmso-pagination:widow-orphan;\\r\\n\\tfont-size:12.0pt;\\r\\n\\tfont-family:\"Times New Roman\",\"serif\";\\r\\n\\tmso-fareast-font-family:\"Times New Roman\";\\r\\n\\tmso-fareast-theme-font:minor-fareast;}\\r\\na:link, span.MsoHyperlink\\r\\n\\t{mso-style-noshow:yes;\\r\\n\\tmso-style-priority:99;\\r\\n\\tcolor:blue;\\r\\n\\ttext-decoration:underline;\\r\\n\\ttext-underline:single;}\\r\\na:visited, span.MsoHyperlinkFollowed\\r\\n\\t{mso-style-noshow:yes;\\r\\n\\tmso-style-priority:99;\\r\\n\\tcolor:purple;\\r\\n\\ttext-decoration:underline;\\r\\n\\ttext-underline:single;}\\r\\np\\r\\n\\t{mso-style-noshow:yes;\\r\\n\\tmso-style-priority:99;\\r\\n\\tmso-margin-top-alt:auto;\\r\\n\\tmargin-right:0in;\\r\\n\\tmso-margin-bottom-alt:auto;\\r\\n\\tmargin-left:0in;\\r\\n\\tmso-pagination:widow-orphan;\\r\\n\\tfont-size:12.0pt;\\r\\n\\tfont-family:\"Times New Roman\",\"serif\";\\r\\n\\tmso-fareast-font-family:\"Times New Roman\";\\r\\n\\tmso-fareast-theme-font:minor-fareast;}\\r\\n.MsoChpDefault\\r\\n\\t{mso-style-type:export-only;\\r\\n\\tmso-default-props:yes;\\r\\n\\tfont-size:10.0pt;\\r\\n\\tmso-ansi-font-size:10.0pt;\\r\\n\\tmso-bidi-font-size:10.0pt;}\\r\\n@page WordSection1\\r\\n\\t{size:8.5in 11.0in;\\r\\n\\tmargin:1.0in 1.0in 1.0in 1.0in;\\r\\n\\tmso-header-margin:.5in;\\r\\n\\tmso-footer-margin:.5in;\\r\\n\\tmso-paper-source:0;}\\r\\ndiv.WordSection1\\r\\n\\t{page:WordSection1;}\\r\\n-->\\r\\n</style>\\r\\n<!--[if gte mso 10]>\\r\\n<style>\\r\\n /* Style Definitions */\\r\\n table.MsoNormalTable\\r\\n\\t{mso-style-name:\"Table Normal\";\\r\\n\\tmso-tstyle-rowband-size:0;\\r\\n\\tmso-tstyle-colband-size:0;\\r\\n\\tmso-style-noshow:yes;\\r\\n\\tmso-style-priority:99;\\r\\n\\tmso-style-parent:\"\";\\r\\n\\tmso-padding-alt:0in 5.4pt 0in 5.4pt;\\r\\n\\tmso-para-margin:0in;\\r\\n\\tmso-para-margin-bottom:.0001pt;\\r\\n\\tmso-pagination:widow-orphan;\\r\\n\\tfont-size:10.0pt;\\r\\n\\tfont-family:\"Times New Roman\",\"serif\";}\\r\\n</style>\\r\\n<![endif]--><!--[if gte mso 9]><xml>\\r\\n <o:shapedefaults v:ext=\"edit\" spidmax=\"1026\"/>\\r\\n</xml><![endif]--><!--[if gte mso 9]><xml>\\r\\n <o:shapelayout v:ext=\"edit\">\\r\\n  <o:idmap v:ext=\"edit\" data=\"1\"/>\\r\\n </o:shapelayout></xml><![endif]-->\\r\\n</head>\\r\\n\\r\\n<body lang=EN-US link=blue vlink=purple style=\\'tab-interval:.5in\\'>\\r\\n\\r\\n<div class=WordSection1>\\r\\n\\r\\n<p class=MsoNormal align=center style=\\'text-align:center\\'><span\\r\\nstyle=\\'font-family:\"Arial\",\"sans-serif\";mso-fareast-font-family:\"Times New Roman\"\\'>&nbsp;<a\\r\\nhref=\"http://www.nwlink.com/~ufocntr\">NUFORC Home Page</a></span><span\\r\\nstyle=\\'mso-fareast-font-family:\"Times New Roman\"\\'> <br>\\r\\n</span><span style=\\'font-family:\"Arial\",\"sans-serif\";mso-fareast-font-family:\\r\\n\"Times New Roman\"\\'>Web Report Indexes : <a\\r\\nhref=\"http://www.nuforc.org/webreports/ndxevent.html\">by Event Date</a> | <a\\r\\nhref=\"http://www.nuforc.org/webreports/ndxloc.html\">by Location</a> | <a\\r\\nhref=\"http://www.nuforc.org/webreports/ndxshape.html\">by Shape</a> | <a\\r\\nhref=\"http://www.nuforc.org/webreports/ndxpost.html\">by Posting Date</a></span><span\\r\\nstyle=\\'mso-fareast-font-family:\"Times New Roman\"\\'><o:p></o:p></span></p>\\r\\n\\r\\n</div>\\r\\n\\r\\n<!--The following token places all object output inside the <BODY> tag.--><TABLE BORDER=1 BGCOLOR=#ffffff CELLSPACING=0><FONT FACE=\"Calibri\" COLOR=#000000><CAPTION><B>National UFO Reporting Center</B></CAPTION></FONT>\\r\\n\\r\\n<THEAD>\\r\\n<TR>\\r\\n<TH BGCOLOR=#c0c0c0 BORDERCOLOR=#000000 ><FONT style=FONT-SIZE:11pt FACE=\"Calibri\" COLOR=#000000>Sighting Report</FONT></TH>\\r\\n\\r\\n</TR>\\r\\n</THEAD>\\r\\n<TBODY>\\r\\n<TR VALIGN=TOP>\\r\\n<TD BORDERCOLOR=#d0d7e5 ><FONT style=FONT-SIZE:11pt FACE=\"Calibri\" COLOR=#000000>Occurred : 5/6/2017 05:00  (Entered as : 05/06/2017 05:00)<BR>Reported: 5/6/2017 4:10:01 AM 04:10<BR>Posted: 5/6/2017<BR>Location: Camp McGregor, NM<BR>Shape: Light<BR>Duration:10 minutes</FONT></TD>\\r\\n\\r\\n</TR>\\r\\n\\r\\n<TR VALIGN=TOP>\\r\\n<TD BORDERCOLOR=#d0d7e5 ><FONT style=FONT-SIZE:11pt FACE=\"Calibri\" COLOR=#000000>Light seen over mountain\\'s east of Camp McGregor.  It hovered in one spot.  It looked like a helicopter light at first.  But it was way to bright.  Then it went to a higher height.  Stayed there for a while.  Then disappeared.<BR><BR><BR>((NUFORC Note:  Report appears to us to be consistent with the sighting of Venus.  PD))</FONT></TD>\\r\\n\\r\\n</TR>\\r\\n</TBODY>\\r\\n<TFOOT></TFOOT>\\r\\n</TABLE>\\r\\n</body>\\r\\n\\r\\n</html>\\r\\n\\x00',\n",
       " 'time': 'Wed May 10 21:12:07 2017'}"
      ]
     },
     "execution_count": 6,
     "metadata": {},
     "output_type": "execute_result"
    }
   ],
   "source": [
    "reports = []\n",
    "with open('../data/ufodata.json') as f:\n",
    "    for i in f:\n",
    "        reports.append(json.loads(i)) \n",
    "reports[0]"
   ]
  },
  {
   "cell_type": "code",
   "execution_count": 63,
   "id": "33dcf9d8",
   "metadata": {},
   "outputs": [
    {
     "name": "stdout",
     "output_type": "stream",
     "text": [
      "Occurred : 3/23/2017 00:00  (Entered as : 3/23/17 0:00)Reported: 4/27/2017 5:11:52 PM 17:11Posted: 4/28/2017Location: Nashville, TNShape: DiskDuration:9 minutes\n"
     ]
    }
   ],
   "source": [
    "print('Occurred : 3/23/2017 00:00  (Entered as : 3/23/17 0:00)Reported: 4/27/2017 5:11:52 PM 17:11Posted: 4/28/2017Location: Nashville, TNShape: DiskDuration:9 minutes')"
   ]
  },
  {
   "cell_type": "code",
   "execution_count": 71,
   "id": "b1f56f3d",
   "metadata": {},
   "outputs": [
    {
     "data": {
      "text/plain": [
       "'\\n\\n\\n\\n\\n\\n\\n\\n\\n\\n\\n\\n\\n\\n\\n\\n\\xa0NUFORC Home Page \\nWeb Report Indexes : by Event Date | by Location | by Shape | by Posting Date\\n\\nNational UFO Reporting Center\\n\\n\\nSighting Report\\n\\n\\n\\n\\nOccurred : 4/10/2017 20:50  (Entered as : 04/10/17 20:50)Reported: 4/10/2017 7:00:04 PM 19:00Posted: 4/13/2017Location: Austin, TXShape: CircleDuration:3 seconds\\n\\n\\nGREEN SPEEDING LIGHT THAT STOPS AND THEN SPEEDS OFF AND DISAPPEARSWAS WALKING OUTSIDE HOMEDEPOT LOOKED UP SEE WHAT LOOKED LIKE A GREEN FALLING STAR, BUT IT STOPPED FOR A BRIEF SECOND THEN IT SPED AWAY AND DISAPPEARED.\\n\\n\\n\\n\\n\\n\\r\\n\\x00'"
      ]
     },
     "execution_count": 71,
     "metadata": {},
     "output_type": "execute_result"
    }
   ],
   "source": [
    "bs = BeautifulSoup(reports[400]['html'], 'html.parser') \n",
    "bs.text"
   ]
  },
  {
   "cell_type": "code",
   "execution_count": 57,
   "id": "11e607aa",
   "metadata": {},
   "outputs": [
    {
     "data": {
      "text/plain": [
       "<tbody>\n",
       "<tr valign=\"TOP\">\n",
       "<td bordercolor=\"#d0d7e5\"><font color=\"#000000\" face=\"Calibri\" style=\"FONT-SIZE:11pt\">Occurred : 5/6/2017 05:00  (Entered as : 05/06/2017 05:00)<br/>Reported: 5/6/2017 4:10:01 AM 04:10<br/>Posted: 5/6/2017<br/>Location: Camp McGregor, NM<br/>Shape: Light<br/>Duration:10 minutes</font></td>\n",
       "</tr>\n",
       "<tr valign=\"TOP\">\n",
       "<td bordercolor=\"#d0d7e5\"><font color=\"#000000\" face=\"Calibri\" style=\"FONT-SIZE:11pt\">Light seen over mountain's east of Camp McGregor.  It hovered in one spot.  It looked like a helicopter light at first.  But it was way to bright.  Then it went to a higher height.  Stayed there for a while.  Then disappeared.<br/><br/><br/>((NUFORC Note:  Report appears to us to be consistent with the sighting of Venus.  PD))</font></td>\n",
       "</tr>\n",
       "</tbody>"
      ]
     },
     "execution_count": 57,
     "metadata": {},
     "output_type": "execute_result"
    }
   ],
   "source": [
    "bs.find('tbody')"
   ]
  },
  {
   "cell_type": "code",
   "execution_count": 54,
   "id": "8f78c76a",
   "metadata": {},
   "outputs": [],
   "source": [
    "def parse_data(reports):\n",
    "    for report in reports:\n",
    "        bs = BeautifulSoup(report['html'], 'html.parser')\n",
    "        \n",
    "        #Cleaning code here\n",
    "        \n",
    "        \n",
    "        \n",
    "        "
   ]
  },
  {
   "cell_type": "code",
   "execution_count": 80,
   "id": "804c38ee",
   "metadata": {},
   "outputs": [
    {
     "data": {
      "text/plain": [
       "'Light in sky stationary. Not a airplane or any known star. Flickering in brightness.((NUFORC Note: Possibly Venus. Source of the report elects to remain anonymous; provides no contact information. We could not find a city named \"Mojave\" in BC, Canada. PD))'"
      ]
     },
     "execution_count": 80,
     "metadata": {},
     "output_type": "execute_result"
    }
   ],
   "source": [
    "text"
   ]
  },
  {
   "cell_type": "code",
   "execution_count": 79,
   "id": "3e60989b",
   "metadata": {},
   "outputs": [],
   "source": [
    "text = 'Light in sky stationary. Not a airplane or any known star. Flickering in brightness.((NUFORC Note: Possibly Venus. Source of the report elects to remain anonymous; provides no contact information. We could not find a city named \"Mojave\" in BC, Canada. PD))' "
   ]
  },
  {
   "cell_type": "code",
   "execution_count": 103,
   "id": "67ee0ce7",
   "metadata": {},
   "outputs": [
    {
     "data": {
      "text/plain": [
       "['light',\n",
       " 'sky',\n",
       " 'stationary',\n",
       " 'airplane',\n",
       " 'known',\n",
       " 'star',\n",
       " 'flickering',\n",
       " 'brightness',\n",
       " 'nuforc',\n",
       " 'note',\n",
       " 'possibly',\n",
       " 'venus',\n",
       " 'source',\n",
       " 'report',\n",
       " 'elects',\n",
       " 'remain',\n",
       " 'anonymous',\n",
       " 'provides',\n",
       " 'contact',\n",
       " 'information',\n",
       " 'could',\n",
       " 'find',\n",
       " 'city',\n",
       " 'named',\n",
       " 'mojave',\n",
       " 'bc',\n",
       " 'canada',\n",
       " 'pd']"
      ]
     },
     "execution_count": 103,
     "metadata": {},
     "output_type": "execute_result"
    }
   ],
   "source": [
    "from nltk.tokenize import sent_tokenize\n",
    "from nltk.tokenize import word_tokenize\n",
    "from nltk.corpus import stopwords\n",
    "import string\n",
    "from nltk.corpus import stopwords\n",
    "from nltk.stem.wordnet import WordNetLemmatizer\n",
    "\n",
    "sent_tokens = sent_tokenize(text)\n",
    "tokens = [sent for sent in map(word_tokenize, sent_tokens)]\n",
    "\n",
    "tokens_lower = [[word.lower() for word in sent] for sent in tokens]\n",
    "\n",
    "stopwords_ = set(stopwords.words('english'))\n",
    "punctuation_ = set(string.punctuation)\n",
    "\n",
    "\n",
    "def filter_tokens(sent):\n",
    "    return([w for w in sent if not w in stopwords_ and not w in punctuation_])\n",
    "\n",
    "tokens_filtered = list(map(filter_tokens, tokens_lower))\n",
    "\n",
    "flattened = []\n",
    "for item in tokens_filtered:\n",
    "    if type(item) == list:\n",
    "        for sub_item in item:\n",
    "            flattened.append(sub_item)\n",
    "    else: flattenedned.append(item)\n",
    "        \n",
    "for word in flattened:\n",
    "    if \"''\" in flattened:\n",
    "        flattened.remove(\"''\")\n",
    "for word in flattened:\n",
    "    if \"``\" in flattened:\n",
    "        flattened.remove(\"``\")\n"
   ]
  }
 ],
 "metadata": {
  "kernelspec": {
   "display_name": "Python 3",
   "language": "python",
   "name": "python3"
  },
  "language_info": {
   "codemirror_mode": {
    "name": "ipython",
    "version": 3
   },
   "file_extension": ".py",
   "mimetype": "text/x-python",
   "name": "python",
   "nbconvert_exporter": "python",
   "pygments_lexer": "ipython3",
   "version": "3.8.10"
  }
 },
 "nbformat": 4,
 "nbformat_minor": 5
}
